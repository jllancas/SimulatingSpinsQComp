{
 "cells": [
  {
   "cell_type": "markdown",
   "metadata": {},
   "source": [
    "# Time evolution for N>3 spins\n",
    "-----------------------------------------------------------"
   ]
  },
  {
   "cell_type": "code",
   "execution_count": 1,
   "metadata": {},
   "outputs": [],
   "source": [
    "import numpy as np\n",
    "from matplotlib import pyplot as plt\n",
    "from qiskit import *"
   ]
  },
  {
   "cell_type": "code",
   "execution_count": 14,
   "metadata": {},
   "outputs": [],
   "source": [
    "from qiskit.circuit import Parameter\n",
    "\n",
    "N = 8 # number of spins; scale up *slowly*, as computational load increases exponentially with N\n",
    "Nhalf = int(0.5*N)\n",
    "J = 1.0\n",
    "Jz = 10.0\n",
    "\n",
    "t = Parameter('t')\n",
    "Nt = 20 #number of time samples\n",
    "tmax = float(Nhalf)\n",
    "tau_range = np.linspace(0,tmax,Nt)\n",
    "\n",
    "ntrot = 100 #Trotter steps\n",
    "\n",
    "qr = QuantumRegister(N,'q')\n",
    "cr = ClassicalRegister(N,'c')\n",
    "\n",
    "timecirc = QuantumCircuit(qr,cr)"
   ]
  },
  {
   "cell_type": "code",
   "execution_count": 15,
   "metadata": {},
   "outputs": [],
   "source": [
    "Ngate_qr = QuantumRegister(2)\n",
    "Ngate_qc = QuantumCircuit(Ngate_qr,name='N3')\n",
    "\n",
    "Ngate_qc.rz(-0.5*np.pi,Ngate_qr[1])\n",
    "Ngate_qc.cx(Ngate_qr[1],Ngate_qr[0])\n",
    "Ngate_qc.rz(0.5*np.pi-2*Jz*t/(4.0*ntrot),Ngate_qr[0])\n",
    "Ngate_qc.ry(2.0*J*t/(4.0*ntrot)-0.5*np.pi,Ngate_qr[1])\n",
    "Ngate_qc.cx(Ngate_qr[0],Ngate_qr[1])\n",
    "Ngate_qc.ry(0.5*np.pi-2.0*J*t/(4.0*ntrot),Ngate_qr[1])\n",
    "Ngate_qc.cx(Ngate_qr[1],Ngate_qr[0])\n",
    "Ngate_qc.rz(0.5*np.pi,Ngate_qr[0])\n",
    "\n",
    "N_gate = Ngate_qc.to_instruction()"
   ]
  },
  {
   "cell_type": "code",
   "execution_count": 16,
   "metadata": {},
   "outputs": [
    {
     "data": {
      "text/plain": [
       "<qiskit.circuit.instructionset.InstructionSet at 0x7f84382ef700>"
      ]
     },
     "execution_count": 16,
     "metadata": {},
     "output_type": "execute_result"
    }
   ],
   "source": [
    "#domain wall initial state |ψ> = |++...++--...-->\n",
    "timecirc.x(qr[0:Nhalf])\n",
    "\n",
    "for _ in range(0,ntrot):\n",
    "    for i in range(0,N-1):\n",
    "        timecirc.append(N_gate, [qr[i], qr[i+1]])\n",
    "\n",
    "timecirc.measure(qr,cr)"
   ]
  },
  {
   "cell_type": "code",
   "execution_count": 17,
   "metadata": {},
   "outputs": [],
   "source": [
    "from qiskit.primitives import StatevectorSampler\n",
    "\n",
    "sampler = StatevectorSampler()\n",
    "\n",
    "nshots = 8192\n",
    "\n",
    "pub = (timecirc, tau_range)\n",
    "\n",
    "job = sampler.run([pub], shots=nshots)\n",
    "result = job.result()[0]"
   ]
  },
  {
   "cell_type": "code",
   "execution_count": 18,
   "metadata": {},
   "outputs": [],
   "source": [
    "Szt = np.zeros((N,Nt))\n",
    "\n",
    "for i in range(0,Nt):\n",
    "    simcounts = result.data.c.get_counts(i)\n",
    "    keylist = list(simcounts.keys())\n",
    "    for j in range(0,len(keylist)):\n",
    "        state = keylist[j]\n",
    "        \n",
    "        for k in range(0,N):\n",
    "            if (state[k]=='0'):\n",
    "                Szt[k,i] = Szt[k,i] + simcounts[state]\n",
    "            else:\n",
    "                Szt[k,i] = Szt[k,i] - simcounts[state]\n",
    "        \n",
    "Szt = 0.5*Szt/nshots    "
   ]
  },
  {
   "cell_type": "code",
   "execution_count": 13,
   "metadata": {},
   "outputs": [
    {
     "data": {
      "image/png": "[encoded data removed]",
      "text/plain": [
       "<Figure size 640x480 with 1 Axes>"
      ]
     },
     "metadata": {},
     "output_type": "display_data"
    }
   ],
   "source": [
    "plt.imshow(Szt)\n",
    "plt.show()"
   ]
  },
  {
   "cell_type": "markdown",
   "metadata": {},
   "source": [
    "## Equivalent execution using ```Estimator``` (more computationally efficient)"
   ]
  },
  {
   "cell_type": "code",
   "execution_count": 11,
   "metadata": {},
   "outputs": [],
   "source": [
    "N = 12 # number of spins; scale up *slowly*, as computational load increases exponentially with N\n",
    "Nhalf = int(0.5*N)\n",
    "J = 1.0\n",
    "Jz = 0.10\n",
    "\n",
    "t = Parameter('t')\n",
    "Nt = 20 #number of time samples\n",
    "tmax = float(Nhalf)\n",
    "tau_range = np.linspace(0,tmax,Nt)\n",
    "\n",
    "ntrot = 100 #Trotter steps\n",
    "\n",
    "qr = QuantumRegister(N,'q')\n",
    "cr = ClassicalRegister(N,'c')\n",
    "\n",
    "timecirc = QuantumCircuit(qr,cr)\n",
    "\n",
    "#domain wall initial state |ψ> = |++...++--...-->\n",
    "timecirc.x(qr[0:Nhalf])\n",
    "\n",
    "for _ in range(0,ntrot):\n",
    "    for i in range(0,N-1):\n",
    "        timecirc.append(N_gate, [qr[i], qr[i+1]])"
   ]
  },
  {
   "cell_type": "code",
   "execution_count": 12,
   "metadata": {},
   "outputs": [],
   "source": [
    "from qiskit.quantum_info import SparsePauliOp\n",
    "\n",
    "pad = \"I\"\n",
    "for j in range(0,N-2):\n",
    "    pad = pad + \"I\"\n",
    "    \n",
    "Sop = [[SparsePauliOp.from_list([(\"Z\"+pad, 0.5)])]]\n",
    "\n",
    "for i in range(0,N):\n",
    "    if (i==N-1):\n",
    "        pad = \"I\"\n",
    "        for j in range(0,N-2):\n",
    "            pad = pad + \"I\"\n",
    "            \n",
    "        Sop.append([SparsePauliOp.from_list([(pad+\"Z\", 0.5)])])\n",
    "    \n",
    "    else:\n",
    "        if (i!=0):\n",
    "            l = \"I\"\n",
    "            for j in range(0,i-1):\n",
    "                l = l + \"I\"\n",
    "    \n",
    "            r = \"I\"\n",
    "            for j in range(0,N-i-2):\n",
    "                r = r + \"I\"\n",
    "            \n",
    "            Sop.append([SparsePauliOp.from_list([(l + \"Z\" + r, 0.5)])])\n",
    "                \n"
   ]
  },
  {
   "cell_type": "code",
   "execution_count": 13,
   "metadata": {},
   "outputs": [],
   "source": [
    "from qiskit.primitives import StatevectorEstimator\n",
    "\n",
    "estimator = StatevectorEstimator()\n",
    "\n",
    "pub = (\n",
    "    timecirc,  # circuit\n",
    "    Sop,  # Observables\n",
    "    tau_range,\n",
    ")\n",
    "\n",
    "job_result = estimator.run(pubs=[pub]).result()"
   ]
  },
  {
   "cell_type": "code",
   "execution_count": 14,
   "metadata": {},
   "outputs": [],
   "source": [
    "Szt = np.zeros((N,Nt))\n",
    "\n",
    "for i in range(0,N):\n",
    "    Szt[i,:] = job_result[0].data.evs[i]"
   ]
  },
  {
   "cell_type": "code",
   "execution_count": 15,
   "metadata": {},
   "outputs": [
    {
     "data": {
      "image/png": "[encoded data removed]",
      "text/plain": [
       "<Figure size 640x480 with 1 Axes>"
      ]
     },
     "metadata": {},
     "output_type": "display_data"
    }
   ],
   "source": [
    "plt.imshow(Szt)\n",
    "plt.show()"
   ]
  },
  {
   "cell_type": "markdown",
   "metadata": {},
   "source": [
    "## Version information:"
   ]
  },
  {
   "cell_type": "code",
   "execution_count": 18,
   "metadata": {},
   "outputs": [
    {
     "data": {
      "text/plain": [
       "'1.1.1'"
      ]
     },
     "execution_count": 18,
     "metadata": {},
     "output_type": "execute_result"
    }
   ],
   "source": [
    "import qiskit \n",
    "\n",
    "qiskit.version.get_version_info()"
   ]
  }
 ],
 "metadata": {
  "kernelspec": {
   "display_name": "Python 3 (ipykernel)",
   "language": "python",
   "name": "python3"
  },
  "language_info": {
   "codemirror_mode": {
    "name": "ipython",
    "version": 3
   },
   "file_extension": ".py",
   "mimetype": "text/x-python",
   "name": "python",
   "nbconvert_exporter": "python",
   "pygments_lexer": "ipython3",
   "version": "3.8.5"
  }
 },
 "nbformat": 4,
 "nbformat_minor": 4
}
