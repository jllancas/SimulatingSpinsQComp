{
 "cells": [
  {
   "cell_type": "markdown",
   "metadata": {},
   "source": [
    "# Time evolution for single spins\n",
    "-----------------------------------------------------------\n",
    "\n",
    "## To accompany \"Simulating spins dynamics with quantum computers\"\n",
    "\n",
    "#### J. L. Lancaster and D. B. Allen\n",
    "#### High Point University"
   ]
  },
  {
   "cell_type": "code",
   "execution_count": 1,
   "metadata": {},
   "outputs": [],
   "source": [
    "import numpy as np\n",
    "from matplotlib import pyplot as plt\n",
    "from qiskit import *\n",
    "%matplotlib inline"
   ]
  },
  {
   "cell_type": "markdown",
   "metadata": {},
   "source": [
    "In this notebook, we explore the simulation of time evolution in single spin systems. For a quantum state $\\left|\\psi\\right\\rangle$, time evolution is governed by the Schrödinger equation,\n",
    "\n",
    "$$i\\hbar \\frac{d}{dt}\\left|\\psi\\right\\rangle = \\hat{H}\\left|\\psi\\right\\rangle.$$\n",
    "\n",
    "For now, we'll assume a time-independent Hamiltonian. In particular, the relevant Hamiltonian for a spin in a constant magnetic field ${\\bf B}$ is\n",
    "\n",
    "$$\\hat{H} = -\\mu {\\bf B}\\cdot\\hat{\\bf S},$$\n",
    "\n",
    "where $\\lambda$ is some constant proportional to the magnetic moment of the spin and $\\hat{\\bf S} = \\hat{S}^{x}\\hat{\\bf x} +  \\hat{S}^{y}\\hat{\\bf y} + \\hat{\\bf z} \\hat{S}^{z}\\hat{\\bf z}$. \n",
    "\n",
    "As an example, let's suppose $\\left|\\psi(0)\\right\\rangle = \\left|+\\right\\rangle$ and ${\\bf B} = B_{0}\\hat{y}$ for some constant $B_{0}$. For this case, the Hamiltonian simplifies to\n",
    "\n",
    "$$\\hat{H} \\rightarrow -\\frac{\\mu B_{0}\\hbar}{2}\\sigma^{y} \\;\\;\\dot{=}\\;\\; -\\hbar\\omega\\left(\\begin{array}{cc} 0 & -i\\\\ i & 0\\end{array}\\right),$$\n",
    "\n",
    "where $\\omega \\equiv \\mu B_{0}$. The fundamental problem in quantum dynamics is to predict the probabilities of measurement outcomes or expectation values at some time $t$ given a Hamiltonian $\\hat{H}$ and an initial state for the system, $\\left|\\psi(0)\\right\\rangle$. We first consider this simple example for which it is straightforward to solve the Schrödinger equation exactly. A formal integration gives\n",
    "\n",
    "$$\\left|\\psi(t)\\right\\rangle = e^{-i\\hat{H}t/\\hbar}\\left|\\psi(0)\\right\\rangle$$,\n",
    "\n",
    "where \n",
    "\n",
    "$$e^{-i\\hat{H}t/\\hbar} = e^{i\\frac{\\omega t}{2}\\sigma^{y}}.$$\n",
    "\n",
    "We can compute the exponential of a matrix by using the Taylor expansion of the exponential function as a definition.\n",
    "\n",
    "$$e^{i\\frac{\\omega t}{2}\\sigma^{y}} \\equiv \\hat{I} + i\\frac{\\omega t}{2}\\sigma^{y} + \\frac{\\left(i\\frac{\\omega t}{2}\\sigma^{y}\\right)^{2}}{2!} + \\frac{\\left(i\\frac{\\omega t}{2}\\sigma^{y}\\right)^{3}}{3!} + \\frac{\\left(i\\frac{\\omega t}{2}\\sigma^{y}\\right)^{4}}{4!} + \\cdots.$$\n",
    "\n",
    "Using $(\\sigma^{y})^{2} = \\hat{I}$ and $i^{2} = -1$, one may group even and odd terms\n",
    "\n",
    "$$e^{i\\frac{\\omega t}{2}\\sigma^{y}} = \\hat{I}\\left[1 - \\frac{(\\omega t/2)^{2}}{2!} + \\frac{(\\omega t/2)^{4}}{4!} + \\cdots\\right] + i\\sigma^{y}\\left[\\omega t - \\frac{(\\omega t/2)^{3}}{3!} + \\frac{(\\omega t/2)^{5}}{5!} + \\cdots\\right].$$\n",
    "\n",
    "The series in brackets are cosine and sine Taylor expansions, respectively. Writing out $\\hat{I}$ and $\\sigma^{y}$ as explicit matrices, we get\n",
    "\n",
    "$$e^{i\\omega t/2\\sigma^{y}} = \\hat{I}\\cos(\\omega t/2) + i\\sigma^{y}\\sin(\\omega t/2) \\;\\;\\dot{=}\\;\\; \\left(\\begin{array}{cc} \\cos(\\omega t/2) & \\sin(\\omega t/2)\\\\ -\\sin(\\omega t/2) & \\cos(\\omega t/2)\\end{array}\\right)$$\n",
    "\n",
    "Now recall the general $\\hat{U}(\\theta,\\phi,\\lambda)$ gate \n",
    "\n",
    "$$\\hat{U}(\\theta,\\phi,\\lambda) \\;\\;\\dot{=} \\left(\\begin{array}{cc} \\cos\\frac{\\theta}{2} & -e^{i\\lambda}\\sin\\frac{\\theta}{2} \\\\ e^{i\\phi}\\sin\\frac{\\theta}{2} & e^{i(\\lambda + \\phi)}\\cos\\frac{\\theta}{2}\\end{array}\\right)$$\n",
    "\n",
    "Then the time evolution is equivalent to the following $\\hat{U}$ gate:\n",
    "\n",
    "$$e^{-i\\hat{H}t/\\hbar} = \\hat{U}(\\omega t,\\pi,\\pi),$$\n",
    "\n",
    "or $\\left|\\psi(t)\\right\\rangle = \\hat{U}(\\omega t,\\pi,\\pi)\\left|+\\right\\rangle$. Exponentiating the Hamiltonian explicitly is rarely the most efficient way to solve for time dynamics analytically. See one of the [many](https://www.springer.com/gp/book/9780306447907) [excellent](https://www.pearson.com/us/higher-education/program/Mc-Intyre-Quantum-Mechanics/PGM64990.html) [textbooks](https://www.cambridge.org/highereducation/books/introduction-to-quantum-mechanics/990799CA07A83FC5312402AF6860311E#overview) on QM (or just Section IIA in [this paper](https://linus.highpoint.edu/~jlancaster/papers/su3.pdf) paper) for the standard approach. But this approach does lend itself to an efficient quantum circuit design for calculating spin dynamics.\n",
    "\n",
    "Lastly, we note that in the manuscript $\\hat{H} = \\mu\\hat{S}^{x}$, and it is shown that the time evolution operator becomes\n",
    "\n",
    "$$|\\psi(t)\\rangle = \\hat{U}\\left(\\omega t, \\frac{\\pi}{2},-\\frac{\\pi}{2}\\right)|\\psi(0)\\rangle$$\n",
    "\n",
    "This is the case we will consider below."
   ]
  },
  {
   "cell_type": "markdown",
   "metadata": {},
   "source": [
    "The basic features of the circuit will be:\n",
    "\n",
    "1. Generate the initial quantum state $\\left|\\psi(0)\\right\\rangle$ through an appropriate unitary transformation of the default initialization $\\left|+\\right\\rangle$.\n",
    "2. Perform time evolution by applying the gate(s) corresponding to $e^{-i\\hat{H}t/\\hbar}$.\n",
    "3. Measure desired observables by appropriate rotation followed by measurement in computational basis.\n",
    "\n",
    "For our first example, we take $\\left|\\psi(0)\\right\\rangle = \\left|+\\right\\rangle$, so no rotation is required before performing step 2. In this first example, let us compute the expectation values $\\left\\langle \\hat{S}^{x}\\right\\rangle$, $\\left\\langle \\hat{S}^{y}\\right\\rangle$, $\\left\\langle \\hat{S}^{z}\\right\\rangle$. To be economical, we can actually embed three copies of the single-spin circuit which only differ in the final gates which select the appropriate spin component for measurement. \n",
    "\n",
    "In order to measure the system at a range of time values (say $0\\leq \\omega t\\leq 2\\pi$), we can define $\\tau = \\omega t$ as a parameter."
   ]
  },
  {
   "cell_type": "code",
   "execution_count": 25,
   "metadata": {},
   "outputs": [
    {
     "data": {
      "text/html": [
       "<pre style=\"word-wrap: normal;white-space: pre;background: #fff0;line-height: 1.1;font-family: &quot;Courier New&quot;,Courier,monospace\">     ┌───────────────┐ ░ ┌──────────┐             ░ ┌─┐      \n",
       "q_0: ┤ U(τ,π/2,-π/2) ├─░─┤ Ry(-π/2) ├─────────────░─┤M├──────\n",
       "     ├───────────────┤ ░ ├──────────┤┌──────────┐ ░ └╥┘┌─┐   \n",
       "q_1: ┤ U(τ,π/2,-π/2) ├─░─┤ Rz(-π/2) ├┤ Ry(-π/2) ├─░──╫─┤M├───\n",
       "     ├───────────────┤ ░ └──────────┘└──────────┘ ░  ║ └╥┘┌─┐\n",
       "q_2: ┤ U(τ,π/2,-π/2) ├─░──────────────────────────░──╫──╫─┤M├\n",
       "     └───────────────┘ ░                          ░  ║  ║ └╥┘\n",
       "c: 3/════════════════════════════════════════════════╩══╩══╩═\n",
       "                                                     0  1  2 </pre>"
      ],
      "text/plain": [
       "     ┌───────────────┐ ░ ┌──────────┐             ░ ┌─┐      \n",
       "q_0: ┤ U(τ,π/2,-π/2) ├─░─┤ Ry(-π/2) ├─────────────░─┤M├──────\n",
       "     ├───────────────┤ ░ ├──────────┤┌──────────┐ ░ └╥┘┌─┐   \n",
       "q_1: ┤ U(τ,π/2,-π/2) ├─░─┤ Rz(-π/2) ├┤ Ry(-π/2) ├─░──╫─┤M├───\n",
       "     ├───────────────┤ ░ └──────────┘└──────────┘ ░  ║ └╥┘┌─┐\n",
       "q_2: ┤ U(τ,π/2,-π/2) ├─░──────────────────────────░──╫──╫─┤M├\n",
       "     └───────────────┘ ░                          ░  ║  ║ └╥┘\n",
       "c: 3/════════════════════════════════════════════════╩══╩══╩═\n",
       "                                                     0  1  2 "
      ]
     },
     "execution_count": 25,
     "metadata": {},
     "output_type": "execute_result"
    }
   ],
   "source": [
    "from qiskit.circuit import Parameter\n",
    "tau = Parameter('τ')\n",
    "Nt = 75\n",
    "qr = QuantumRegister(3,'q')\n",
    "cr = ClassicalRegister(3,'c')\n",
    "\n",
    "timecirc = QuantumCircuit(qr,cr) \n",
    "\n",
    "#no initial unitary transformation since |ψ(0)> = |+>\n",
    "\n",
    "timecirc.u(tau,np.pi/2,-np.pi/2,qr) #apply exp(-iHt/ħ)\n",
    "timecirc.barrier(qr)\n",
    "timecirc.ry(-np.pi/2,0) #rotation to measure <Sx>\n",
    "\n",
    "timecirc.rz(-np.pi/2,1) \n",
    "timecirc.ry(-np.pi/2,1) #rotation to measure <Sy>\n",
    "timecirc.barrier(qr)\n",
    "#no rotation needed to measure <Sz>\n",
    "\n",
    "timecirc.measure(qr,cr)\n",
    "timecirc.draw()"
   ]
  },
  {
   "cell_type": "markdown",
   "metadata": {},
   "source": [
    "Next, we define the range for $\\tau$ and run on the simulator for some number of shots."
   ]
  },
  {
   "cell_type": "code",
   "execution_count": 26,
   "metadata": {},
   "outputs": [],
   "source": [
    "tau_range = np.linspace(0, 2*np.pi, Nt)\n",
    "Nshots = 8192\n",
    "\n",
    "job = execute(timecirc,\n",
    "              backend=BasicAer.get_backend('qasm_simulator'),shots=Nshots,\n",
    "              parameter_binds=[{tau: t_val} for t_val in tau_range])\n",
    "\n",
    "simcounts = job.result().get_counts()"
   ]
  },
  {
   "cell_type": "markdown",
   "metadata": {},
   "source": [
    "Now we must pay the price for lumping three separate single-spin circuits onto a single three-spin circuit. Recall that the measurements will consist of which (total) state was counted, which specifies the state of all three spins in one three-character output. For instance, ```'000'``` refers to all three spin components being measured as up, while ```'001'``` refers to the $x$ and $y$ components being measured $+\\frac{\\hbar}{2}$, while the $z$ component was measured as $-\\frac{\\hbar}{2}$. At each time step we are interested in the overall counts for each component indepedently from the states of the others. Later, we will allow interactions between individual spins so that the entire configuration becomes important. But for now, we need to tally the +/- counts for each component while ignoring the states of the others.\n",
    "\n",
    "For example, to obtain $\\left\\langle \\hat{S}^{x}\\right\\rangle$, we need to compute\n",
    "\n",
    "$$\\left\\langle \\hat{S}^{x} \\right\\rangle = \\frac{(\\mbox{no. of 0 measurements})\\times \\frac{\\hbar}{2} + (\\mbox{no. of 1 measurements})\\times \\left(-\\frac{\\hbar}{2}\\right)}{N_{shots}}$$ \n",
    "\n",
    "The number of '0' measurements refers only to the first spin, so we need to add contributions from ```'000'```, ```'001'```, ```'010'```, and ```'011'```. The remaining four states have a '1' in the first slot, so the sum of these represents the total number of shots for which this spin projection came out as $-\\frac{\\hbar}{2}$. Thus if we label the number of ```000``` measurements as $\\texttt{c000}$ and similarly for the other seven states,\n",
    "\n",
    "$$\\left\\langle \\hat{S}^{x}\\right\\rangle = \\frac{\\hbar}{2}\\frac{\\texttt{c000} + \\texttt{c001} + \\texttt{c010}+ \\texttt{c011}- \\texttt{c100}- \\texttt{c101}- \\texttt{c110}- \\texttt{c111}}{N_{shots}}.$$\n",
    "\n",
    "Similar reasoning applies to the other components. I should emphasize that you don't <i>have</i> to do it this way. You could just as easily create three single-qubit circuits in which each circuit returned simple counts for a single component of spin. The tradeoff is that you would have to send three separate circuits to the quantum hardware."
   ]
  },
  {
   "cell_type": "code",
   "execution_count": 27,
   "metadata": {},
   "outputs": [],
   "source": [
    "c000 = np.array(list(map(lambda c: c.get('000', 0), simcounts)))\n",
    "c001 = np.array(list(map(lambda c: c.get('001', 0), simcounts)))\n",
    "c010 = np.array(list(map(lambda c: c.get('010', 0), simcounts)))\n",
    "c011 = np.array(list(map(lambda c: c.get('011', 0), simcounts)))\n",
    "c100 = np.array(list(map(lambda c: c.get('100', 0), simcounts)))\n",
    "c101 = np.array(list(map(lambda c: c.get('101', 0), simcounts)))\n",
    "c110 = np.array(list(map(lambda c: c.get('110', 0), simcounts)))\n",
    "c111 = np.array(list(map(lambda c: c.get('111', 0), simcounts)))\n",
    "\n",
    "Sz = 0.5*(c000+c001+c010+c011-c100-c101-c110-c111)/Nshots\n",
    "Sy = 0.5*(c000+c001+c100+c101-c010-c011-c110-c111)/Nshots\n",
    "Sx = 0.5*(c000+c010+c100+c110-c001-c011-c101-c111)/Nshots"
   ]
  },
  {
   "cell_type": "markdown",
   "metadata": {},
   "source": [
    "We can now plot the spin expectation values as functions of $\\theta$. In this simple case, it's useful to verify that this simulated circuit is actually simulating what we <i>think</i> it is. Since the time-dependent state can be computed exactly, it's straightforward to compute the time-dependent expectation values analytically (see derivation above Eq. (13) in [this](https://linus.highpoint.edu/~jlancaster/papers/su3.pdf) paper or any QM textbook),\n",
    "\n",
    "$$\\left\\langle \\hat{S}^{y}\\right\\rangle = \\frac{\\hbar}{2}\\sin(\\omega t),$$\n",
    "$$\\left\\langle \\hat{S}^{z}\\right\\rangle = \\frac{\\hbar}{2}\\cos(\\omega t),$$\n",
    "\n",
    "while $\\left\\langle \\hat{S}^{x}\\right\\rangle = 0$. So we can plot the simulator results alongside theoretical predictions:"
   ]
  },
  {
   "cell_type": "code",
   "execution_count": 28,
   "metadata": {},
   "outputs": [
    {
     "data": {
      "image/png": "[encoded data removed]",
      "text/plain": [
       "<Figure size 432x288 with 1 Axes>"
      ]
     },
     "metadata": {
      "needs_background": "light"
     },
     "output_type": "display_data"
    }
   ],
   "source": [
    "plt.plot(tau_range,Sx,'bo',label='<Sx>')\n",
    "plt.plot(tau_range,Sy,'ro',label='<Sy>')\n",
    "plt.plot(tau_range,Sz,'ko',label='<Sz>')\n",
    "plt.plot(tau_range,0*np.zeros(Nt),'b-')\n",
    "plt.plot(tau_range,0.5*np.sin(tau_range),'r-')\n",
    "plt.plot(tau_range,0.5*np.cos(tau_range),'k-')\n",
    "plt.xlabel('$\\omega t$')\n",
    "plt.ylabel('<S>')\n",
    "plt.legend()\n",
    "plt.show()"
   ]
  },
  {
   "cell_type": "markdown",
   "metadata": {},
   "source": [
    "Next, we can send this to actual quantum hardware.\n",
    "\n",
    "<b>NOTE:</b> You will need an IBM Quantum account for this part so that you can paste your API into the field below. You can also skip cells involving the actual devices to perform simulations in the remainder of this notebook."
   ]
  },
  {
   "cell_type": "code",
   "execution_count": 11,
   "metadata": {},
   "outputs": [
    {
     "data": {
      "text/plain": [
       "<AccountProvider for IBMQ(hub='ibm-q', group='open', project='main')>"
      ]
     },
     "execution_count": 11,
     "metadata": {},
     "output_type": "execute_result"
    }
   ],
   "source": [
    "IBMQ.load_account('paste-your-API-here')"
   ]
  },
  {
   "cell_type": "code",
   "execution_count": 12,
   "metadata": {},
   "outputs": [],
   "source": [
    "provider = IBMQ.get_provider(hub='ibm-q', group='open', project='main')"
   ]
  },
  {
   "cell_type": "code",
   "execution_count": null,
   "metadata": {},
   "outputs": [],
   "source": [
    "qcomp = provider.get_backend('ibmq_lima')\n",
    "\n",
    "job = execute(timecirc, backend=qcomp,shots=Nshots,parameter_binds=[{tau: t_val} for t_val in tau_range])\n",
    "from qiskit.tools.monitor import job_monitor\n",
    "job_monitor(job)\n",
    "qcounts = job.result().get_counts()"
   ]
  },
  {
   "cell_type": "markdown",
   "metadata": {},
   "source": [
    "It's never a bad idea to print the job ID so it can be accessed later. What follows is the same post-processing we used for the simulator and a similar plot."
   ]
  },
  {
   "cell_type": "code",
   "execution_count": null,
   "metadata": {},
   "outputs": [],
   "source": [
    "job.job_id()"
   ]
  },
  {
   "cell_type": "code",
   "execution_count": 34,
   "metadata": {},
   "outputs": [],
   "source": [
    "#Data stored in job '613d0d348228224fe7e2122a' (ibmq_bogota)\n",
    "cq000 = np.array(list(map(lambda c: c.get('000', 0), qcounts)))\n",
    "cq001 = np.array(list(map(lambda c: c.get('001', 0), qcounts)))\n",
    "cq010 = np.array(list(map(lambda c: c.get('010', 0), qcounts)))\n",
    "cq011 = np.array(list(map(lambda c: c.get('011', 0), qcounts)))\n",
    "cq100 = np.array(list(map(lambda c: c.get('100', 0), qcounts)))\n",
    "cq101 = np.array(list(map(lambda c: c.get('101', 0), qcounts)))\n",
    "cq110 = np.array(list(map(lambda c: c.get('110', 0), qcounts)))\n",
    "cq111 = np.array(list(map(lambda c: c.get('111', 0), qcounts)))\n",
    "\n",
    "Szq = 0.5*(cq000+cq001+cq010+cq011-cq100-cq101-cq110-cq111)/Nshots\n",
    "Syq = 0.5*(cq000+cq001+cq100+cq101-cq010-cq011-cq110-cq111)/Nshots\n",
    "Sxq = 0.5*(cq000+cq010+cq100+cq110-cq001-cq011-cq101-cq111)/Nshots"
   ]
  },
  {
   "cell_type": "code",
   "execution_count": null,
   "metadata": {},
   "outputs": [],
   "source": [
    "plt.plot(tau_range,Sxq,'bo',label='<Sx>')\n",
    "plt.plot(tau_range,Syq,'ro',label='<Sy>')\n",
    "plt.plot(tau_range,Szq,'ko',label='<Sz>')\n",
    "plt.plot(tau_range,0*np.zeros(Nt),'b-')\n",
    "plt.plot(tau_range,0.5*np.sin(tau_range),'r-')\n",
    "plt.plot(tau_range,0.5*np.cos(tau_range),'k-')\n",
    "plt.xlabel('$\\omega t$')\n",
    "plt.ylabel('<S>')\n",
    "plt.legend()\n",
    "plt.show()"
   ]
  },
  {
   "cell_type": "markdown",
   "metadata": {},
   "source": [
    "### Time evolution operator for arbitrary magnetic field\n"
   ]
  },
  {
   "cell_type": "markdown",
   "metadata": {},
   "source": [
    "It's possible to compute the general case ${\\bf B} = B_{0}\\hat{\\bf n}$, but implementation is somewhat tricky due to a limited number of built-in functions to act on ```Parameter``` objects. Instead of tackling that, let's just look closely at a particular example of a magnetic field with more than one component:\n",
    "\n",
    "$${\\bf B} = \\frac{B_{0}}{\\sqrt{2}}\\hat{\\bf x} + \\frac{B_{0}}{\\sqrt{2}}\\hat{\\bf y}$$\n",
    "\n",
    "This corresponds to $\\theta = \\frac{\\pi}{2}$, $\\phi = \\frac{\\pi}{4}$, so\n",
    "\n",
    "$$\\exp\\left[-i\\hat{H}t/\\hbar\\right] = \\hat{U}\\left(\\omega t, \\frac{3\\pi}{4}, -\\frac{3\\pi}{4}\\right)$$"
   ]
  },
  {
   "cell_type": "markdown",
   "metadata": {},
   "source": [
    "Analytically, we can write out the expected spin components as \n",
    "\n",
    "$$\\left\\langle \\hat{S}^{x} -\\right\\rangle = \\frac{\\hbar}{2}\\cos\\frac{3\\pi}{4}\\sin(\\omega t)$$\n",
    "$$\\left\\langle \\hat{S}^{y} \\right\\rangle = \\frac{\\hbar}{2}\\sin\\frac{3\\pi}{4}\\sin(\\omega t)$$\n",
    "$$\\left\\langle \\hat{S}^{z} \\right\\rangle = \\frac{\\hbar}{2}\\cos(\\omega t)$$"
   ]
  },
  {
   "cell_type": "code",
   "execution_count": 16,
   "metadata": {},
   "outputs": [
    {
     "data": {
      "text/html": [
       "<pre style=\"word-wrap: normal;white-space: pre;background: #fff0;line-height: 1.1;font-family: &quot;Courier New&quot;,Courier,monospace\">       ┌─────────────────┐ ░                          ░ ┌─┐      \n",
       "q77_0: ┤ U(τ,3π/4,-3π/4) ├─░──────────────────────────░─┤M├──────\n",
       "       ├─────────────────┤ ░ ┌──────────┐┌──────────┐ ░ └╥┘┌─┐   \n",
       "q77_1: ┤ U(τ,3π/4,-3π/4) ├─░─┤ Rz(-π/2) ├┤ Ry(-π/2) ├─░──╫─┤M├───\n",
       "       ├─────────────────┤ ░ ├──────────┤└──────────┘ ░  ║ └╥┘┌─┐\n",
       "q77_2: ┤ U(τ,3π/4,-3π/4) ├─░─┤ Ry(-π/2) ├─────────────░──╫──╫─┤M├\n",
       "       └─────────────────┘ ░ └──────────┘             ░  ║  ║ └╥┘\n",
       " c1: 3/══════════════════════════════════════════════════╩══╩══╩═\n",
       "                                                         0  1  2 </pre>"
      ],
      "text/plain": [
       "       ┌─────────────────┐ ░                          ░ ┌─┐      \n",
       "q77_0: ┤ U(τ,3π/4,-3π/4) ├─░──────────────────────────░─┤M├──────\n",
       "       ├─────────────────┤ ░ ┌──────────┐┌──────────┐ ░ └╥┘┌─┐   \n",
       "q77_1: ┤ U(τ,3π/4,-3π/4) ├─░─┤ Rz(-π/2) ├┤ Ry(-π/2) ├─░──╫─┤M├───\n",
       "       ├─────────────────┤ ░ ├──────────┤└──────────┘ ░  ║ └╥┘┌─┐\n",
       "q77_2: ┤ U(τ,3π/4,-3π/4) ├─░─┤ Ry(-π/2) ├─────────────░──╫──╫─┤M├\n",
       "       └─────────────────┘ ░ └──────────┘             ░  ║  ║ └╥┘\n",
       " c1: 3/══════════════════════════════════════════════════╩══╩══╩═\n",
       "                                                         0  1  2 "
      ]
     },
     "execution_count": 16,
     "metadata": {},
     "output_type": "execute_result"
    }
   ],
   "source": [
    "tau = Parameter('τ')\n",
    "Nt = 75\n",
    "qr = QuantumRegister(3)\n",
    "cr = ClassicalRegister(3)\n",
    "\n",
    "timecirc = QuantumCircuit(qr,cr) \n",
    "θ = np.pi/2\n",
    "ϕ = np.pi/4\n",
    "\n",
    "timecirc.u(tau,np.pi/2+ϕ,-np.pi/2-ϕ,qr)\n",
    "timecirc.barrier(qr)\n",
    "timecirc.ry(-np.pi/2,2) #rotation to measure <Sx>\n",
    "\n",
    "timecirc.rz(-np.pi/2,1) \n",
    "timecirc.ry(-np.pi/2,1) #rotation to measure <Sy>\n",
    "timecirc.barrier(qr)\n",
    "#no rotation needed to measure <Sz>\n",
    "\n",
    "timecirc.measure(qr,cr)\n",
    "timecirc.draw()"
   ]
  },
  {
   "cell_type": "code",
   "execution_count": 17,
   "metadata": {},
   "outputs": [
    {
     "data": {
      "image/png": "[encoded data removed]",
      "text/plain": [
       "<Figure size 432x288 with 1 Axes>"
      ]
     },
     "metadata": {
      "needs_background": "light"
     },
     "output_type": "display_data"
    }
   ],
   "source": [
    "tau_range = np.linspace(0, 2*np.pi, Nt)\n",
    "Nshots = 8192\n",
    "\n",
    "job = execute(timecirc,\n",
    "              backend=BasicAer.get_backend('qasm_simulator'),shots=Nshots,\n",
    "              parameter_binds=[{tau: t_val} for t_val in tau_range])\n",
    "\n",
    "simcounts = job.result().get_counts()\n",
    "\n",
    "c000 = np.array(list(map(lambda c: c.get('000', 0), simcounts)))\n",
    "c001 = np.array(list(map(lambda c: c.get('001', 0), simcounts)))\n",
    "c010 = np.array(list(map(lambda c: c.get('010', 0), simcounts)))\n",
    "c011 = np.array(list(map(lambda c: c.get('011', 0), simcounts)))\n",
    "c100 = np.array(list(map(lambda c: c.get('100', 0), simcounts)))\n",
    "c101 = np.array(list(map(lambda c: c.get('101', 0), simcounts)))\n",
    "c110 = np.array(list(map(lambda c: c.get('110', 0), simcounts)))\n",
    "c111 = np.array(list(map(lambda c: c.get('111', 0), simcounts)))\n",
    "\n",
    "Sx = 0.5*(c000+c001+c010+c011-c100-c101-c110-c111)/Nshots\n",
    "Sy = 0.5*(c000+c001+c100+c101-c010-c011-c110-c111)/Nshots\n",
    "Sz = 0.5*(c000+c010+c100+c110-c001-c011-c101-c111)/Nshots\n",
    "\n",
    "plt.plot(tau_range,Sx,'bo',label='<Sx>')\n",
    "plt.plot(tau_range,Sy,'ro',label='<Sy>')\n",
    "plt.plot(tau_range,Sz,'ko',label='<Sz>')\n",
    "plt.plot(tau_range,0.5*np.cos(3*np.pi/4)*np.sin(tau_range),'b-')\n",
    "plt.plot(tau_range,0.5*np.sin(3*np.pi/4)*np.sin(tau_range),'r-')\n",
    "plt.plot(tau_range,0.5*np.cos(tau_range),'k-')\n",
    "plt.xlabel('$\\omega t$')\n",
    "plt.ylabel('<S>')\n",
    "plt.legend()\n",
    "plt.show()"
   ]
  },
  {
   "cell_type": "markdown",
   "metadata": {},
   "source": [
    "We can also run the same circuit on actual hardware."
   ]
  },
  {
   "cell_type": "code",
   "execution_count": null,
   "metadata": {},
   "outputs": [],
   "source": [
    "tau_range = np.linspace(0, 2*np.pi, Nt)\n",
    "Nshots = 8192\n",
    "\n",
    "qcomp = #provider.get_backend('ibm_lagos')\n",
    "\n",
    "job = execute(timecirc, backend=qcomp,shots=Nshots,parameter_binds=[{tau: t_val} for t_val in tau_range])\n",
    "from qiskit.tools.monitor import job_monitor\n",
    "job_monitor(job)\n",
    "qcounts = job.result().get_counts()\n",
    "\n",
    "c000 = np.array(list(map(lambda c: c.get('000', 0), qcounts)))\n",
    "c001 = np.array(list(map(lambda c: c.get('001', 0), qcounts)))\n",
    "c010 = np.array(list(map(lambda c: c.get('010', 0), qcounts)))\n",
    "c011 = np.array(list(map(lambda c: c.get('011', 0), qcounts)))\n",
    "c100 = np.array(list(map(lambda c: c.get('100', 0), qcounts)))\n",
    "c101 = np.array(list(map(lambda c: c.get('101', 0), qcounts)))\n",
    "c110 = np.array(list(map(lambda c: c.get('110', 0), qcounts)))\n",
    "c111 = np.array(list(map(lambda c: c.get('111', 0), qcounts)))\n",
    "\n",
    "Sxq = 0.5*(c000+c001+c010+c011-c100-c101-c110-c111)/Nshots\n",
    "Syq = 0.5*(c000+c001+c100+c101-c010-c011-c110-c111)/Nshots\n",
    "Szq = 0.5*(c000+c010+c100+c110-c001-c011-c101-c111)/Nshots\n",
    "\n",
    "plt.plot(tau_range,Sxq,'bo',label='<Sx>')\n",
    "plt.plot(tau_range,Syq,'ro',label='<Sy>')\n",
    "plt.plot(tau_range,Szq,'ko',label='<Sz>')\n",
    "plt.plot(tau_range,0.5*np.cos(3*np.pi/4)*np.sin(tau_range),'b-')\n",
    "plt.plot(tau_range,0.5*np.sin(3*np.pi/4)*np.sin(tau_range),'r-')\n",
    "plt.plot(tau_range,0.5*np.cos(tau_range),'k-')\n",
    "plt.xlabel('$\\omega t$')\n",
    "plt.ylabel('<S>')\n",
    "plt.legend()\n",
    "plt.show()"
   ]
  },
  {
   "cell_type": "markdown",
   "metadata": {},
   "source": [
    "### Introduction to Trotter steps"
   ]
  },
  {
   "cell_type": "markdown",
   "metadata": {},
   "source": [
    "For short time steps, we <i>can</i> approximate the full operator by a sequence of noncommuting operators. Taking the full time evolution operator to be of the form $\\hat{U} = \\exp\\left[it(\\hat{A}+\\hat{B})\\right]$ for $\\left[\\hat{A},\\hat{B}\\right] \\neq 0$. It is possible to show that\n",
    "\n",
    "$$\\exp\\left[it\\left(\\hat{A}+\\hat{B}\\right)\\right] = \\lim_{n\\rightarrow\\infty}\\left(\\exp\\left[i\\frac{t}{n}\\hat{A}\\right]\\left[i\\frac{t}{n}\\hat{B}\\right]\\right)^{n}$$\n",
    "\n",
    "That is, we <i>should</i> be able to get increasingly accurate results by slicing up the time step into many substeps. The above expression is known as the <b>Lie-Trotter formula</b>, and the main idea is to compute (approximately) the time evolution of the quantum state at time $t$ by taking $n$ small steps of size $\\frac{t}{n}$ using the product of simpler operator exponentials. For $n$ sufficiently large, the approximate result should converge to the exact result. This process is sometimes referred to as <b>Trotterization</b>.\n",
    "\n",
    "Before diving in, it's worth asking <i>why</i> one would do this when the exact result is much simpler. The interactions of a single spin with an external magnetic field are special in that it is possible to obtain the exact time evolution operator. For multiple spins, the types of possible interactions <i>between</i> spins result in significantly more complicated Hamiltonians for which this exact analysis is not generally possible. But by decomposing (approximately) the exponential of a fairly complicated Hamiltonian into a series of simple Trotterized factors, it becomes possible to simulate much more interesting dynamics. Indeed, the anticipated value of future quantum devices is that such simulations will be much more efficient than state-of-the-art computations on classical devices.\n",
    "\n",
    "Below is an example of the Trotterization scheme where the number of Trotter steps is set to ```ntrot```. "
   ]
  },
  {
   "cell_type": "code",
   "execution_count": 40,
   "metadata": {},
   "outputs": [
    {
     "data": {
      "image/png": "[encoded data removed]",
      "text/plain": [
       "<Figure size 432x288 with 1 Axes>"
      ]
     },
     "metadata": {
      "needs_background": "light"
     },
     "output_type": "display_data"
    }
   ],
   "source": [
    "tau = Parameter('τ')\n",
    "Nt = 75\n",
    "\n",
    "tau_range = np.linspace(0, 2*np.pi, Nt)\n",
    "Nshots = 8192\n",
    "\n",
    "qr = QuantumRegister(3)\n",
    "cr = ClassicalRegister(3)\n",
    "\n",
    "timecirc0 = QuantumCircuit(qr,cr) \n",
    "θ = np.pi/2\n",
    "ϕ = np.pi/4\n",
    "\n",
    "#vary this:\n",
    "ntrot = 2\n",
    "\n",
    "for i in range(0,ntrot):\n",
    "    timecirc0.u(tau/(np.sqrt(2)*ntrot),np.pi/2,-np.pi/2,qr)\n",
    "    timecirc0.u(tau/(np.sqrt(2)*ntrot),np.pi,-np.pi,qr)\n",
    "    \n",
    "timecirc0.barrier(qr)\n",
    "timecirc0.ry(-np.pi/2,2) #rotation to measure <Sx>\n",
    "\n",
    "timecirc0.rz(-np.pi/2,1) \n",
    "timecirc0.ry(-np.pi/2,1) #rotation to measure <Sy>\n",
    "timecirc0.barrier(qr)\n",
    "#no rotation needed to measure <Sz>\n",
    "\n",
    "timecirc0.measure(qr,cr)\n",
    "timecirc0.draw()\n",
    "\n",
    "\n",
    "job = execute(timecirc0, backend=BasicAer.get_backend('qasm_simulator'),shots=Nshots,\n",
    "              parameter_binds=[{tau: t_val} for t_val in tau_range])\n",
    "\n",
    "counts = job.result().get_counts()\n",
    "\n",
    "c000 = np.array(list(map(lambda c: c.get('000', 0), counts)))\n",
    "c001 = np.array(list(map(lambda c: c.get('001', 0), counts)))\n",
    "c010 = np.array(list(map(lambda c: c.get('010', 0), counts)))\n",
    "c011 = np.array(list(map(lambda c: c.get('011', 0), counts)))\n",
    "c100 = np.array(list(map(lambda c: c.get('100', 0), counts)))\n",
    "c101 = np.array(list(map(lambda c: c.get('101', 0), counts)))\n",
    "c110 = np.array(list(map(lambda c: c.get('110', 0), counts)))\n",
    "c111 = np.array(list(map(lambda c: c.get('111', 0), counts)))\n",
    "\n",
    "Sx = 0.5*(c000+c001+c010+c011-c100-c101-c110-c111)/Nshots\n",
    "Sy = 0.5*(c000+c001+c100+c101-c010-c011-c110-c111)/Nshots\n",
    "Sz = 0.5*(c000+c010+c100+c110-c001-c011-c101-c111)/Nshots\n",
    "\n",
    "plt.plot(tau_range,Sx,'bo',label='<Sx>')\n",
    "plt.plot(tau_range,Sy,'ro',label='<Sy>')\n",
    "plt.plot(tau_range,Sz,'ko',label='<Sz>')\n",
    "plt.plot(tau_range,0.5*np.cos(3*np.pi/4)*np.sin(tau_range),'b-')\n",
    "plt.plot(tau_range,0.5*np.sin(3*np.pi/4)*np.sin(tau_range),'r-')\n",
    "plt.plot(tau_range,0.5*np.cos(tau_range),'k-')\n",
    "plt.xlabel('$\\omega t$')\n",
    "plt.ylabel('<S>')\n",
    "plt.legend()\n",
    "plt.show()"
   ]
  },
  {
   "cell_type": "markdown",
   "metadata": {},
   "source": [
    "By copying and pasting, the approximate \"Trotterized\" circuit can also be sent to actual hardware using the appropriate syntax changes."
   ]
  }
 ],
 "metadata": {
  "kernelspec": {
   "display_name": "Python 3 (ipykernel)",
   "language": "python",
   "name": "python3"
  },
  "language_info": {
   "codemirror_mode": {
    "name": "ipython",
    "version": 3
   },
   "file_extension": ".py",
   "mimetype": "text/x-python",
   "name": "python",
   "nbconvert_exporter": "python",
   "pygments_lexer": "ipython3",
   "version": "3.9.5"
  }
 },
 "nbformat": 4,
 "nbformat_minor": 4
}
