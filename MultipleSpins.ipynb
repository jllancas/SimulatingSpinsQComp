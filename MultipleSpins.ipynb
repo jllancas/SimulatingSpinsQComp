{
 "cells": [
  {
   "cell_type": "markdown",
   "metadata": {},
   "source": [
    "# Time evolution for multiple spins\n",
    "-----------------------------------------------------------\n",
    "\n",
    "## To accompany \"Simulating spins dynamics with quantum computers\"\n",
    "\n",
    "#### J. L. Lancaster and D. B. Allen\n",
    "#### High Point University"
   ]
  },
  {
   "cell_type": "code",
   "execution_count": 2,
   "metadata": {},
   "outputs": [],
   "source": [
    "import numpy as np\n",
    "from matplotlib import pyplot as plt\n",
    "from qiskit import *\n",
    "%matplotlib inline"
   ]
  },
  {
   "cell_type": "markdown",
   "metadata": {},
   "source": [
    "Here we use the machinery developed in the single-spin case to perform time evolution on a system of multiple spins. One additional feature we will need is the gate $\\hat{N}(\\alpha,\\beta,\\gamma) = \\exp\\left[i\\left(\\alpha \\sigma^{x}\\otimes\\sigma^{x} + \\beta\\sigma^{y}\\otimes\\sigma^{y} + \\gamma\\sigma^{z}\\otimes\\sigma^{z}\\right)\\right]$ discussed in the main text. \n",
    "\n",
    "This notebook is set up to run all circuits on the QASM simulator, which only requires either (a) a local installation of Qiskit or (b) uploading this notebook to the IBM quantum lab. To run these circuits on quantum devices, uncomment and execute the following cell:"
   ]
  },
  {
   "cell_type": "code",
   "execution_count": null,
   "metadata": {},
   "outputs": [],
   "source": [
    "#IBMQ.load_account('paste-your-API-here')\n",
    "#provider = IBMQ.get_provider(hub='ibm-q', group='open', project='main')"
   ]
  },
  {
   "cell_type": "markdown",
   "metadata": {},
   "source": [
    "Additionally, replace\n",
    "\n",
    "```job = execute(timecirc,\n",
    "              backend=BasicAer.get_backend('qasm_simulator'),shots=Nshots,\n",
    "              parameter_binds=[{tau: t_val} for t_val in tau_range])```"
   ]
  },
  {
   "cell_type": "markdown",
   "metadata": {},
   "source": [
    "by \n",
    "\n",
    "```qcomp = provider.get_backend('select_quantum_device_here')\n",
    "job = execute(timecirc, backend=qcomp,shots=Nshots,parameter_binds=[{tau: t_val} for t_val in tau_range])\n",
    "from qiskit.tools.monitor import job_monitor\n",
    "job_monitor(job)```"
   ]
  },
  {
   "cell_type": "markdown",
   "metadata": {},
   "source": [
    "Make sure to select an appropriate device (e.g., ```ibmq_lima```). We can define a function corresponding to the $\\hat{N}(\\alpha,\\beta,\\gamma)$ gate as follows."
   ]
  },
  {
   "cell_type": "code",
   "execution_count": 3,
   "metadata": {},
   "outputs": [],
   "source": [
    "#two-gate operator for exp[i(α σx σx + β σy σy + γ σz σz)]\n",
    "def N(α,β,γ,circ,q1,q2):\n",
    "    circ.rz(-0.5*np.pi,q2)\n",
    "    circ.cnot(q2,q1)\n",
    "    circ.rz(0.5*np.pi-2*γ,q1)\n",
    "    circ.ry(2.0*α-0.5*np.pi,q2)\n",
    "    circ.cnot(q1,q2)\n",
    "    circ.ry(0.5*np.pi-2.0*β,q2)\n",
    "    circ.cnot(q2,q1)\n",
    "    circ.rz(0.5*np.pi,q1)"
   ]
  },
  {
   "cell_type": "markdown",
   "metadata": {},
   "source": [
    "### Two spins (Fig. 6)"
   ]
  },
  {
   "cell_type": "markdown",
   "metadata": {},
   "source": [
    "Below we define a circuit performing the computation whose results are depicted in Fig. 6. For simplicity, we split the total task into three total circuits. Each circuit will measure one component of each spin. First, the circuit for measuring $\\langle \\hat{S}^{z}(t)\\rangle$ is"
   ]
  },
  {
   "cell_type": "code",
   "execution_count": 5,
   "metadata": {},
   "outputs": [
    {
     "data": {
      "text/html": [
       "<pre style=\"word-wrap: normal;white-space: pre;background: #fff0;line-height: 1.1;font-family: &quot;Courier New&quot;,Courier,monospace\">       ┌──────────────┐             ┌───┐┌───────────────────────────────┐     »\n",
       "q1_0: ─┤ U(π/6,π/3,0) ├─────────────┤ X ├┤ Rz(1.5707963267949 - 0.125*τ) ├──■──»\n",
       "      ┌┴──────────────┴┐┌──────────┐└─┬─┘└┬──────────────────────────────┤┌─┴─┐»\n",
       "q1_1: ┤ U(3π/5,4π/3,0) ├┤ Rz(-π/2) ├──■───┤ Ry(0.25*τ - 1.5707963267949) ├┤ X ├»\n",
       "      └────────────────┘└──────────┘      └──────────────────────────────┘└───┘»\n",
       "c1: 2/═════════════════════════════════════════════════════════════════════════»\n",
       "                                                                               »\n",
       "«                                       ┌───┐┌─────────┐┌─┐\n",
       "«q1_0: ─────────────────────────────────┤ X ├┤ Rz(π/2) ├┤M├\n",
       "«      ┌───────────────────────────────┐└─┬─┘└───┬─┬───┘└╥┘\n",
       "«q1_1: ┤ Ry(0.225*τ + 1.5707963267949) ├──■──────┤M├─────╫─\n",
       "«      └───────────────────────────────┘         └╥┘     ║ \n",
       "«c1: 2/═══════════════════════════════════════════╩══════╩═\n",
       "«                                                 0      1 </pre>"
      ],
      "text/plain": [
       "       ┌──────────────┐             ┌───┐┌───────────────────────────────┐     »\n",
       "q1_0: ─┤ U(π/6,π/3,0) ├─────────────┤ X ├┤ Rz(1.5707963267949 - 0.125*τ) ├──■──»\n",
       "      ┌┴──────────────┴┐┌──────────┐└─┬─┘└┬──────────────────────────────┤┌─┴─┐»\n",
       "q1_1: ┤ U(3π/5,4π/3,0) ├┤ Rz(-π/2) ├──■───┤ Ry(0.25*τ - 1.5707963267949) ├┤ X ├»\n",
       "      └────────────────┘└──────────┘      └──────────────────────────────┘└───┘»\n",
       "c1: 2/═════════════════════════════════════════════════════════════════════════»\n",
       "                                                                               »\n",
       "«                                       ┌───┐┌─────────┐┌─┐\n",
       "«q1_0: ─────────────────────────────────┤ X ├┤ Rz(π/2) ├┤M├\n",
       "«      ┌───────────────────────────────┐└─┬─┘└───┬─┬───┘└╥┘\n",
       "«q1_1: ┤ Ry(0.225*τ + 1.5707963267949) ├──■──────┤M├─────╫─\n",
       "«      └───────────────────────────────┘         └╥┘     ║ \n",
       "«c1: 2/═══════════════════════════════════════════╩══════╩═\n",
       "«                                                 0      1 "
      ]
     },
     "execution_count": 5,
     "metadata": {},
     "output_type": "execute_result"
    }
   ],
   "source": [
    "from qiskit.circuit import Parameter\n",
    "tau = Parameter('τ')\n",
    "Nt = 75\n",
    "tau_range = np.linspace(0,10,Nt)\n",
    "\n",
    "Jx = 0.5\n",
    "Jy = -0.45\n",
    "Jz = 0.25\n",
    "\n",
    "qr = QuantumRegister(2)\n",
    "cr = ClassicalRegister(2)\n",
    "\n",
    "timecirc = QuantumCircuit(qr,cr) \n",
    "\n",
    "#initial states from text\n",
    "timecirc.u(np.pi/6,np.pi/3,0,0)\n",
    "timecirc.u(3*np.pi/5,4*np.pi/3,0,1)\n",
    "\n",
    "\n",
    "N(Jx*tau/4.0,Jy*tau/4.0,Jz*tau/4.0,timecirc,0,1)\n",
    "    \n",
    "timecirc.measure(qr,[1,0])\n",
    "timecirc.draw()"
   ]
  },
  {
   "cell_type": "code",
   "execution_count": 6,
   "metadata": {},
   "outputs": [],
   "source": [
    "Nshots = 8192\n",
    "\n",
    "job = execute(timecirc,\n",
    "              backend=BasicAer.get_backend('qasm_simulator'),shots=Nshots,\n",
    "              parameter_binds=[{tau: t_val} for t_val in tau_range])\n",
    "\n",
    "simcountsz = job.result().get_counts()"
   ]
  },
  {
   "cell_type": "markdown",
   "metadata": {},
   "source": [
    "Then this circuit is duplicated with additional rotations before measurement to probe $\\langle \\hat{S}^{x}\\rangle$ and $\\langle \\hat{S}^{y}\\rangle$:"
   ]
  },
  {
   "cell_type": "code",
   "execution_count": 9,
   "metadata": {},
   "outputs": [],
   "source": [
    "################################\n",
    "# circuit to measure <Sx> ######\n",
    "################################\n",
    "\n",
    "qr = QuantumRegister(2)\n",
    "cr = ClassicalRegister(2)\n",
    "\n",
    "timecirc = QuantumCircuit(qr,cr) \n",
    "\n",
    "#initial states\n",
    "timecirc.u(np.pi/6,np.pi/3,0,0)\n",
    "timecirc.u(3*np.pi/5,4*np.pi/3,0,1)\n",
    "\n",
    "N(Jx*tau/4.0,Jy*tau/4.0,Jz*tau/4.0,timecirc,0,1)\n",
    "    \n",
    "timecirc.ry(-np.pi/2,qr)    \n",
    "timecirc.measure(qr,[1,0])\n",
    "timecirc.draw()\n",
    "\n",
    "Nshots = 8192\n",
    "\n",
    "job = execute(timecirc,\n",
    "              backend=BasicAer.get_backend('qasm_simulator'),shots=Nshots,\n",
    "              parameter_binds=[{tau: t_val} for t_val in tau_range])\n",
    "\n",
    "simcountsx = job.result().get_counts()\n",
    "\n",
    "\n",
    "################################\n",
    "# circuit to measure <Sy> ######\n",
    "################################\n",
    "\n",
    "qr = QuantumRegister(2)\n",
    "cr = ClassicalRegister(2)\n",
    "\n",
    "timecirc = QuantumCircuit(qr,cr) \n",
    "\n",
    "#initial states\n",
    "timecirc.u(np.pi/6,np.pi/3,0,0)\n",
    "timecirc.u(3*np.pi/5,4*np.pi/3,0,1)\n",
    "\n",
    "N(Jx*tau/4.0,Jy*tau/4.0,Jz*tau/4.0,timecirc,0,1)\n",
    "\n",
    "timecirc.rz(-np.pi/2,qr) \n",
    "timecirc.ry(-np.pi/2,qr)    \n",
    "timecirc.measure(qr,[1,0])\n",
    "timecirc.draw()\n",
    "\n",
    "Nshots = 8192\n",
    "\n",
    "job = execute(timecirc,\n",
    "              backend=BasicAer.get_backend('qasm_simulator'),shots=Nshots,\n",
    "              parameter_binds=[{tau: t_val} for t_val in tau_range])\n",
    "\n",
    "simcountsy = job.result().get_counts()"
   ]
  },
  {
   "cell_type": "markdown",
   "metadata": {},
   "source": [
    "Then we run through the standard post-processing:"
   ]
  },
  {
   "cell_type": "code",
   "execution_count": 10,
   "metadata": {},
   "outputs": [],
   "source": [
    "c00 = np.array(list(map(lambda c: c.get('00', 0), simcountsx)))\n",
    "c01 = np.array(list(map(lambda c: c.get('01', 0), simcountsx)))\n",
    "c10 = np.array(list(map(lambda c: c.get('10', 0), simcountsx)))\n",
    "c11 = np.array(list(map(lambda c: c.get('11', 0), simcountsx)))\n",
    "\n",
    "Sx1 = 0.5*(c00+c01-c10-c11)/Nshots\n",
    "Sx2 = 0.5*(c00+c10-c01-c11)/Nshots\n",
    "\n",
    "c00 = np.array(list(map(lambda c: c.get('00', 0), simcountsy)))\n",
    "c01 = np.array(list(map(lambda c: c.get('01', 0), simcountsy)))\n",
    "c10 = np.array(list(map(lambda c: c.get('10', 0), simcountsy)))\n",
    "c11 = np.array(list(map(lambda c: c.get('11', 0), simcountsy)))\n",
    "\n",
    "Sy1 = 0.5*(c00+c01-c10-c11)/Nshots\n",
    "Sy2 = 0.5*(c00+c10-c01-c11)/Nshots\n",
    "\n",
    "c00 = np.array(list(map(lambda c: c.get('00', 0), simcountsz)))\n",
    "c01 = np.array(list(map(lambda c: c.get('01', 0), simcountsz)))\n",
    "c10 = np.array(list(map(lambda c: c.get('10', 0), simcountsz)))\n",
    "c11 = np.array(list(map(lambda c: c.get('11', 0), simcountsz)))\n",
    "\n",
    "Sz1 = 0.5*(c00+c01-c10-c11)/Nshots\n",
    "Sz2 = 0.5*(c00+c10-c01-c11)/Nshots"
   ]
  },
  {
   "cell_type": "code",
   "execution_count": 27,
   "metadata": {},
   "outputs": [
    {
     "data": {
      "image/png": "[encoded data removed]",
      "text/plain": [
       "<Figure size 432x288 with 1 Axes>"
      ]
     },
     "metadata": {
      "needs_background": "light"
     },
     "output_type": "display_data"
    }
   ],
   "source": [
    "plt.plot(tau_range,Sx1,'r--')\n",
    "plt.plot(tau_range,Sy1,'b-.')\n",
    "plt.plot(tau_range,Sz1,'k-')\n",
    "plt.xlabel('Jt')\n",
    "plt.ylabel('$<S_{1}^{j}>/\\hbar$')\n",
    "plt.legend(['j=x','j=y','j=z'])\n",
    "plt.show()"
   ]
  },
  {
   "cell_type": "code",
   "execution_count": 28,
   "metadata": {},
   "outputs": [
    {
     "data": {
      "image/png": "[encoded data removed]",
      "text/plain": [
       "<Figure size 432x288 with 1 Axes>"
      ]
     },
     "metadata": {
      "needs_background": "light"
     },
     "output_type": "display_data"
    }
   ],
   "source": [
    "plt.plot(tau_range,Sx2,'r--')\n",
    "plt.plot(tau_range,Sy2,'b-.')\n",
    "plt.plot(tau_range,Sz2,'k-')\n",
    "plt.xlabel('Jt')\n",
    "plt.ylabel('$<S_{2}^{j}>/\\hbar$')\n",
    "plt.legend(['j=x','j=y','j=z'])\n",
    "plt.show()"
   ]
  },
  {
   "cell_type": "markdown",
   "metadata": {},
   "source": [
    "### Three spins (Fig. 7)"
   ]
  },
  {
   "cell_type": "markdown",
   "metadata": {},
   "source": [
    "For the case of more than two spins, Lie-Trotter decomposition is necessary to approximate the time evolution operator. For simplicity, we only extract the spin project along the $\\hat{z}$ axis. Other components are obtained straightforwardly by performing appropriate rotations to the qubits just before measurement."
   ]
  },
  {
   "cell_type": "code",
   "execution_count": 30,
   "metadata": {},
   "outputs": [],
   "source": [
    "from qiskit.circuit import Parameter\n",
    "tau = Parameter('τ')\n",
    "Nt = 75\n",
    "tau_range = np.linspace(0,10,Nt)\n",
    "\n",
    "Jx = 0.5\n",
    "Jy = -0.45\n",
    "Jz = 0.25\n",
    "\n",
    "ntrot = 100\n",
    "\n",
    "qr = QuantumRegister(3)\n",
    "cr = ClassicalRegister(3)\n",
    "\n",
    "timecirc = QuantumCircuit(qr,cr) \n",
    "\n",
    "#initial states\n",
    "timecirc.u(np.pi/6,np.pi/3,0,0)\n",
    "timecirc.u(3*np.pi/5,4*np.pi/3,0,1)\n",
    "timecirc.u(-np.pi/5,2*np.pi/3,0,2)\n",
    "\n",
    "for i in range(0,ntrot):\n",
    "    N(Jx*(tau/ntrot)/4.0,Jy*(tau/ntrot)/4.0,Jz*(tau/ntrot)/4.0,timecirc,0,1)\n",
    "    N(Jx*(tau/ntrot)/4.0,Jy*(tau/ntrot)/4.0,Jz*(tau/ntrot)/4.0,timecirc,1,2)\n",
    "    \n",
    "timecirc.measure(qr,cr)\n",
    "timecirc.draw()\n",
    "\n",
    "Nshots = 8192\n",
    "\n",
    "job = execute(timecirc, backend=BasicAer.get_backend('qasm_simulator'),shots=Nshots,parameter_binds=[{tau: t_val} for t_val in tau_range])\n",
    "\n",
    "simcounts = job.result().get_counts()"
   ]
  },
  {
   "cell_type": "code",
   "execution_count": 31,
   "metadata": {},
   "outputs": [],
   "source": [
    "#array to store time-dependent expectation values for all three spins\n",
    "\n",
    "Szt = np.zeros((3,Nt))\n",
    "\n",
    "for i in range(0,Nt):\n",
    "    counts = simcounts[i]\n",
    "    keylist = list(counts.keys())\n",
    "    for j in range(0,len(keylist)):\n",
    "        state = keylist[j]\n",
    "        \n",
    "        if (state[0]=='0'):\n",
    "            Szt[0,i] = Szt[0,i] + counts[state]\n",
    "        else:\n",
    "            Szt[0,i] = Szt[0,i] - counts[state]\n",
    "            \n",
    "            \n",
    "        if (state[1]=='0'):\n",
    "            Szt[1,i] = Szt[1,i] + counts[state]\n",
    "        else:\n",
    "            Szt[1,i] = Szt[1,i] - counts[state]\n",
    "            \n",
    "            \n",
    "        if (state[2]=='0'):\n",
    "            Szt[2,i] = Szt[2,i] + counts[state]\n",
    "        else:\n",
    "            Szt[2,i] = Szt[2,i] - counts[state]\n",
    "        \n",
    "Szt = 0.5*Szt/Nshots    "
   ]
  },
  {
   "cell_type": "code",
   "execution_count": 32,
   "metadata": {},
   "outputs": [
    {
     "data": {
      "image/png": "[encoded data removed]",
      "text/plain": [
       "<Figure size 432x288 with 1 Axes>"
      ]
     },
     "metadata": {
      "needs_background": "light"
     },
     "output_type": "display_data"
    }
   ],
   "source": [
    "plt.plot(tau_range,Szt[0,:])\n",
    "plt.plot(tau_range,Szt[1,:])\n",
    "plt.plot(tau_range,Szt[2,:])\n",
    "plt.xlabel('Jt')\n",
    "plt.ylabel('$<S_{i}^{z}>/\\hbar$')\n",
    "plt.legend(['i=1','i=2','i=3'])\n",
    "plt.show()"
   ]
  },
  {
   "cell_type": "markdown",
   "metadata": {},
   "source": [
    "In practice, the three-spin system is quite difficult simulate accurately. Anecdotally, we were only able to obtain passable results using ```ibm_perth```, a seven-qubit device available in the IBM Quantum Researchers program. "
   ]
  }
 ],
 "metadata": {
  "kernelspec": {
   "display_name": "Python 3 (ipykernel)",
   "language": "python",
   "name": "python3"
  },
  "language_info": {
   "codemirror_mode": {
    "name": "ipython",
    "version": 3
   },
   "file_extension": ".py",
   "mimetype": "text/x-python",
   "name": "python",
   "nbconvert_exporter": "python",
   "pygments_lexer": "ipython3",
   "version": "3.9.5"
  }
 },
 "nbformat": 4,
 "nbformat_minor": 4
}
